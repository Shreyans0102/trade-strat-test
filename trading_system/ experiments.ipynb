{
 "cells": [
  {
   "cell_type": "code",
   "execution_count": 1,
   "metadata": {},
   "outputs": [],
   "source": [
    "from data.downloader import DataDownloader\n",
    "from config.settings import SYMBOLS, TIMEFRAMES"
   ]
  },
  {
   "cell_type": "code",
   "execution_count": 2,
   "metadata": {},
   "outputs": [
    {
     "name": "stderr",
     "output_type": "stream",
     "text": [
      "2025-04-02 19:37:55,414 - data.downloader - INFO - Downloading EURUSD=X 1d data...\n"
     ]
    },
    {
     "name": "stdout",
     "output_type": "stream",
     "text": [
      "YF.download() has changed argument auto_adjust default to True\n"
     ]
    },
    {
     "name": "stderr",
     "output_type": "stream",
     "text": [
      "[*********************100%***********************]  1 of 1 completed\n",
      "2025-04-02 19:37:55,864 - data.downloader - INFO - Saved to data/raw/EURUSD_X_1d.csv\n",
      "2025-04-02 19:37:55,865 - data.downloader - INFO - Downloading EURUSD=X 1h data...\n",
      "[*********************100%***********************]  1 of 1 completed\n",
      "2025-04-02 19:37:56,865 - yfinance - ERROR - \n",
      "1 Failed download:\n",
      "2025-04-02 19:37:56,865 - yfinance - ERROR - ['EURUSD=X']: YFPricesMissingError('possibly delisted; no price data found  (1h 2020-01-01 -> 2023-12-31) (Yahoo error = \"1h data not available for startTime=1577836800 and endTime=1703980800. The requested range must be within the last 730 days.\")')\n",
      "2025-04-02 19:37:56,868 - data.downloader - WARNING - No data available for EURUSD=X 1h\n",
      "2025-04-02 19:37:56,869 - data.downloader - INFO - Downloading EURUSD=X 5m data...\n",
      "[*********************100%***********************]  1 of 1 completed\n",
      "2025-04-02 19:37:57,618 - yfinance - ERROR - \n",
      "1 Failed download:\n",
      "2025-04-02 19:37:57,618 - yfinance - ERROR - ['EURUSD=X']: YFPricesMissingError('possibly delisted; no price data found  (5m 2020-01-01 -> 2023-12-31) (Yahoo error = \"5m data not available for startTime=1577836800 and endTime=1703980800. The requested range must be within the last 60 days.\")')\n",
      "2025-04-02 19:37:57,620 - data.downloader - WARNING - No data available for EURUSD=X 5m\n",
      "2025-04-02 19:37:57,621 - data.downloader - INFO - Downloading GBPUSD=X 1d data...\n",
      "[*********************100%***********************]  1 of 1 completed\n",
      "2025-04-02 19:37:57,775 - data.downloader - INFO - Saved to data/raw/GBPUSD_X_1d.csv\n",
      "2025-04-02 19:37:57,776 - data.downloader - INFO - Downloading GBPUSD=X 1h data...\n",
      "[*********************100%***********************]  1 of 1 completed\n",
      "2025-04-02 19:37:58,412 - yfinance - ERROR - \n",
      "1 Failed download:\n",
      "2025-04-02 19:37:58,413 - yfinance - ERROR - ['GBPUSD=X']: YFPricesMissingError('possibly delisted; no price data found  (1h 2020-01-01 -> 2023-12-31) (Yahoo error = \"1h data not available for startTime=1577836800 and endTime=1703980800. The requested range must be within the last 730 days.\")')\n",
      "2025-04-02 19:37:58,416 - data.downloader - WARNING - No data available for GBPUSD=X 1h\n",
      "2025-04-02 19:37:58,417 - data.downloader - INFO - Downloading GBPUSD=X 5m data...\n",
      "[*********************100%***********************]  1 of 1 completed\n",
      "2025-04-02 19:37:59,324 - yfinance - ERROR - \n",
      "1 Failed download:\n",
      "2025-04-02 19:37:59,325 - yfinance - ERROR - ['GBPUSD=X']: YFPricesMissingError('possibly delisted; no price data found  (5m 2020-01-01 -> 2023-12-31) (Yahoo error = \"5m data not available for startTime=1577836800 and endTime=1703980800. The requested range must be within the last 60 days.\")')\n",
      "2025-04-02 19:37:59,328 - data.downloader - WARNING - No data available for GBPUSD=X 5m\n",
      "2025-04-02 19:37:59,328 - data.downloader - INFO - Downloading USDJPY=X 1d data...\n",
      "[*********************100%***********************]  1 of 1 completed\n",
      "2025-04-02 19:37:59,444 - data.downloader - INFO - Saved to data/raw/USDJPY_X_1d.csv\n",
      "2025-04-02 19:37:59,445 - data.downloader - INFO - Downloading USDJPY=X 1h data...\n",
      "[*********************100%***********************]  1 of 1 completed\n",
      "2025-04-02 19:38:00,190 - yfinance - ERROR - \n",
      "1 Failed download:\n",
      "2025-04-02 19:38:00,190 - yfinance - ERROR - ['USDJPY=X']: YFPricesMissingError('possibly delisted; no price data found  (1h 2020-01-01 -> 2023-12-31) (Yahoo error = \"1h data not available for startTime=1577836800 and endTime=1703980800. The requested range must be within the last 730 days.\")')\n",
      "2025-04-02 19:38:00,193 - data.downloader - WARNING - No data available for USDJPY=X 1h\n",
      "2025-04-02 19:38:00,193 - data.downloader - INFO - Downloading USDJPY=X 5m data...\n",
      "[*********************100%***********************]  1 of 1 completed\n",
      "2025-04-02 19:38:01,031 - yfinance - ERROR - \n",
      "1 Failed download:\n",
      "2025-04-02 19:38:01,032 - yfinance - ERROR - ['USDJPY=X']: YFPricesMissingError('possibly delisted; no price data found  (5m 2020-01-01 -> 2023-12-31) (Yahoo error = \"5m data not available for startTime=1577836800 and endTime=1703980800. The requested range must be within the last 60 days.\")')\n",
      "2025-04-02 19:38:01,034 - data.downloader - WARNING - No data available for USDJPY=X 5m\n",
      "2025-04-02 19:38:01,035 - data.downloader - INFO - Downloading MNQ=F 1d data...\n",
      "[*********************100%***********************]  1 of 1 completed\n",
      "2025-04-02 19:38:01,135 - data.downloader - INFO - Saved to data/raw/MNQ_F_1d.csv\n",
      "2025-04-02 19:38:01,135 - data.downloader - INFO - Downloading MNQ=F 1h data...\n",
      "[*********************100%***********************]  1 of 1 completed\n",
      "2025-04-02 19:38:01,960 - yfinance - ERROR - \n",
      "1 Failed download:\n",
      "2025-04-02 19:38:01,961 - yfinance - ERROR - ['MNQ=F']: YFPricesMissingError('possibly delisted; no price data found  (1h 2020-01-01 -> 2023-12-31) (Yahoo error = \"1h data not available for startTime=1577854800 and endTime=1703998800. The requested range must be within the last 730 days.\")')\n",
      "2025-04-02 19:38:01,963 - data.downloader - WARNING - No data available for MNQ=F 1h\n",
      "2025-04-02 19:38:01,964 - data.downloader - INFO - Downloading MNQ=F 5m data...\n",
      "[*********************100%***********************]  1 of 1 completed\n",
      "2025-04-02 19:38:02,680 - yfinance - ERROR - \n",
      "1 Failed download:\n",
      "2025-04-02 19:38:02,681 - yfinance - ERROR - ['MNQ=F']: YFPricesMissingError('possibly delisted; no price data found  (5m 2020-01-01 -> 2023-12-31) (Yahoo error = \"5m data not available for startTime=1577854800 and endTime=1703998800. The requested range must be within the last 60 days.\")')\n",
      "2025-04-02 19:38:02,683 - data.downloader - WARNING - No data available for MNQ=F 5m\n"
     ]
    },
    {
     "data": {
      "text/plain": [
       "True"
      ]
     },
     "execution_count": 2,
     "metadata": {},
     "output_type": "execute_result"
    }
   ],
   "source": [
    "data_dir = \"data/raw\"\n",
    "downloader = DataDownloader(data_dir=data_dir)\n",
    "downloader.download_data()"
   ]
  },
  {
   "cell_type": "code",
   "execution_count": null,
   "metadata": {},
   "outputs": [],
   "source": []
  }
 ],
 "metadata": {
  "kernelspec": {
   "display_name": "trading_env",
   "language": "python",
   "name": "python3"
  },
  "language_info": {
   "codemirror_mode": {
    "name": "ipython",
    "version": 3
   },
   "file_extension": ".py",
   "mimetype": "text/x-python",
   "name": "python",
   "nbconvert_exporter": "python",
   "pygments_lexer": "ipython3",
   "version": "3.10.16"
  }
 },
 "nbformat": 4,
 "nbformat_minor": 2
}
